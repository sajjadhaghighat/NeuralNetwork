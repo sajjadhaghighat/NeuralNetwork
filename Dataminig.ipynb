{
  "nbformat": 4,
  "nbformat_minor": 0,
  "metadata": {
    "colab": {
      "provenance": [],
      "authorship_tag": "ABX9TyNWtcmNI374Xgx0gosgXqSH",
      "include_colab_link": true
    },
    "kernelspec": {
      "name": "python3",
      "display_name": "Python 3"
    },
    "language_info": {
      "name": "python"
    }
  },
  "cells": [
    {
      "cell_type": "markdown",
      "metadata": {
        "id": "view-in-github",
        "colab_type": "text"
      },
      "source": [
        "<a href=\"https://colab.research.google.com/github/sajjadhaghighat/NeuralNetwork/blob/master/Dataminig.ipynb\" target=\"_parent\"><img src=\"https://colab.research.google.com/assets/colab-badge.svg\" alt=\"Open In Colab\"/></a>"
      ]
    },
    {
      "cell_type": "code",
      "execution_count": null,
      "metadata": {
        "id": "5D6xvgDNs_0q"
      },
      "outputs": [],
      "source": [
        "import pandas as pd\n",
        "import numpy as np\n",
        "import statistics as st\n",
        "import seaborn as sns"
      ]
    },
    {
      "cell_type": "code",
      "source": [
        "dataset1 = pd.read_csv('train1.csv')\n",
        "dataset1.dropna()\n",
        "dataset1.head(2)"
      ],
      "metadata": {
        "id": "p6cEU7SAvjRI",
        "colab": {
          "base_uri": "https://localhost:8080/",
          "height": 292
        },
        "outputId": "74b1e2d2-b89e-401d-9b1c-7599f513a29a"
      },
      "execution_count": null,
      "outputs": [
        {
          "output_type": "execute_result",
          "data": {
            "text/plain": [
              "  Complete TCGA ID  Gender  Age at Initial Pathologic Diagnosis ER Status  \\\n",
              "0     TCGA-A2-A0T2  FEMALE                                   66  Negative   \n",
              "1     TCGA-A2-A0CM  FEMALE                                   40  Negative   \n",
              "\n",
              "  PR Status HER2 Final Status Tumor Tumor--T1 Coded Node Node-Coded  ...  \\\n",
              "0  Negative          Negative    T3         T_Other   N3   Positive  ...   \n",
              "1  Negative          Negative    T2         T_Other   N0   Negative  ...   \n",
              "\n",
              "   PAM50 mRNA SigClust Unsupervised mRNA SigClust Intrinsic mRNA  \\\n",
              "0  Basal-like                          0                     -13   \n",
              "1  Basal-like                        -12                     -13   \n",
              "\n",
              "  miRNA Clusters methylation Clusters RPPA Clusters  CN Clusters  \\\n",
              "0              3                    5         Basal            3   \n",
              "1              4                    4         Basal            4   \n",
              "\n",
              "   Integrated Clusters (with PAM50)  Integrated Clusters (no exp)  \\\n",
              "0                                 2                             2   \n",
              "1                                 2                             1   \n",
              "\n",
              "   Integrated Clusters (unsup exp)  \n",
              "0                                2  \n",
              "1                                1  \n",
              "\n",
              "[2 rows x 30 columns]"
            ],
            "text/html": [
              "\n",
              "  <div id=\"df-a4d0adb5-f41b-480a-a372-c19f8f52309b\">\n",
              "    <div class=\"colab-df-container\">\n",
              "      <div>\n",
              "<style scoped>\n",
              "    .dataframe tbody tr th:only-of-type {\n",
              "        vertical-align: middle;\n",
              "    }\n",
              "\n",
              "    .dataframe tbody tr th {\n",
              "        vertical-align: top;\n",
              "    }\n",
              "\n",
              "    .dataframe thead th {\n",
              "        text-align: right;\n",
              "    }\n",
              "</style>\n",
              "<table border=\"1\" class=\"dataframe\">\n",
              "  <thead>\n",
              "    <tr style=\"text-align: right;\">\n",
              "      <th></th>\n",
              "      <th>Complete TCGA ID</th>\n",
              "      <th>Gender</th>\n",
              "      <th>Age at Initial Pathologic Diagnosis</th>\n",
              "      <th>ER Status</th>\n",
              "      <th>PR Status</th>\n",
              "      <th>HER2 Final Status</th>\n",
              "      <th>Tumor</th>\n",
              "      <th>Tumor--T1 Coded</th>\n",
              "      <th>Node</th>\n",
              "      <th>Node-Coded</th>\n",
              "      <th>...</th>\n",
              "      <th>PAM50 mRNA</th>\n",
              "      <th>SigClust Unsupervised mRNA</th>\n",
              "      <th>SigClust Intrinsic mRNA</th>\n",
              "      <th>miRNA Clusters</th>\n",
              "      <th>methylation Clusters</th>\n",
              "      <th>RPPA Clusters</th>\n",
              "      <th>CN Clusters</th>\n",
              "      <th>Integrated Clusters (with PAM50)</th>\n",
              "      <th>Integrated Clusters (no exp)</th>\n",
              "      <th>Integrated Clusters (unsup exp)</th>\n",
              "    </tr>\n",
              "  </thead>\n",
              "  <tbody>\n",
              "    <tr>\n",
              "      <th>0</th>\n",
              "      <td>TCGA-A2-A0T2</td>\n",
              "      <td>FEMALE</td>\n",
              "      <td>66</td>\n",
              "      <td>Negative</td>\n",
              "      <td>Negative</td>\n",
              "      <td>Negative</td>\n",
              "      <td>T3</td>\n",
              "      <td>T_Other</td>\n",
              "      <td>N3</td>\n",
              "      <td>Positive</td>\n",
              "      <td>...</td>\n",
              "      <td>Basal-like</td>\n",
              "      <td>0</td>\n",
              "      <td>-13</td>\n",
              "      <td>3</td>\n",
              "      <td>5</td>\n",
              "      <td>Basal</td>\n",
              "      <td>3</td>\n",
              "      <td>2</td>\n",
              "      <td>2</td>\n",
              "      <td>2</td>\n",
              "    </tr>\n",
              "    <tr>\n",
              "      <th>1</th>\n",
              "      <td>TCGA-A2-A0CM</td>\n",
              "      <td>FEMALE</td>\n",
              "      <td>40</td>\n",
              "      <td>Negative</td>\n",
              "      <td>Negative</td>\n",
              "      <td>Negative</td>\n",
              "      <td>T2</td>\n",
              "      <td>T_Other</td>\n",
              "      <td>N0</td>\n",
              "      <td>Negative</td>\n",
              "      <td>...</td>\n",
              "      <td>Basal-like</td>\n",
              "      <td>-12</td>\n",
              "      <td>-13</td>\n",
              "      <td>4</td>\n",
              "      <td>4</td>\n",
              "      <td>Basal</td>\n",
              "      <td>4</td>\n",
              "      <td>2</td>\n",
              "      <td>1</td>\n",
              "      <td>1</td>\n",
              "    </tr>\n",
              "  </tbody>\n",
              "</table>\n",
              "<p>2 rows × 30 columns</p>\n",
              "</div>\n",
              "      <button class=\"colab-df-convert\" onclick=\"convertToInteractive('df-a4d0adb5-f41b-480a-a372-c19f8f52309b')\"\n",
              "              title=\"Convert this dataframe to an interactive table.\"\n",
              "              style=\"display:none;\">\n",
              "        \n",
              "  <svg xmlns=\"http://www.w3.org/2000/svg\" height=\"24px\"viewBox=\"0 0 24 24\"\n",
              "       width=\"24px\">\n",
              "    <path d=\"M0 0h24v24H0V0z\" fill=\"none\"/>\n",
              "    <path d=\"M18.56 5.44l.94 2.06.94-2.06 2.06-.94-2.06-.94-.94-2.06-.94 2.06-2.06.94zm-11 1L8.5 8.5l.94-2.06 2.06-.94-2.06-.94L8.5 2.5l-.94 2.06-2.06.94zm10 10l.94 2.06.94-2.06 2.06-.94-2.06-.94-.94-2.06-.94 2.06-2.06.94z\"/><path d=\"M17.41 7.96l-1.37-1.37c-.4-.4-.92-.59-1.43-.59-.52 0-1.04.2-1.43.59L10.3 9.45l-7.72 7.72c-.78.78-.78 2.05 0 2.83L4 21.41c.39.39.9.59 1.41.59.51 0 1.02-.2 1.41-.59l7.78-7.78 2.81-2.81c.8-.78.8-2.07 0-2.86zM5.41 20L4 18.59l7.72-7.72 1.47 1.35L5.41 20z\"/>\n",
              "  </svg>\n",
              "      </button>\n",
              "      \n",
              "  <style>\n",
              "    .colab-df-container {\n",
              "      display:flex;\n",
              "      flex-wrap:wrap;\n",
              "      gap: 12px;\n",
              "    }\n",
              "\n",
              "    .colab-df-convert {\n",
              "      background-color: #E8F0FE;\n",
              "      border: none;\n",
              "      border-radius: 50%;\n",
              "      cursor: pointer;\n",
              "      display: none;\n",
              "      fill: #1967D2;\n",
              "      height: 32px;\n",
              "      padding: 0 0 0 0;\n",
              "      width: 32px;\n",
              "    }\n",
              "\n",
              "    .colab-df-convert:hover {\n",
              "      background-color: #E2EBFA;\n",
              "      box-shadow: 0px 1px 2px rgba(60, 64, 67, 0.3), 0px 1px 3px 1px rgba(60, 64, 67, 0.15);\n",
              "      fill: #174EA6;\n",
              "    }\n",
              "\n",
              "    [theme=dark] .colab-df-convert {\n",
              "      background-color: #3B4455;\n",
              "      fill: #D2E3FC;\n",
              "    }\n",
              "\n",
              "    [theme=dark] .colab-df-convert:hover {\n",
              "      background-color: #434B5C;\n",
              "      box-shadow: 0px 1px 3px 1px rgba(0, 0, 0, 0.15);\n",
              "      filter: drop-shadow(0px 1px 2px rgba(0, 0, 0, 0.3));\n",
              "      fill: #FFFFFF;\n",
              "    }\n",
              "  </style>\n",
              "\n",
              "      <script>\n",
              "        const buttonEl =\n",
              "          document.querySelector('#df-a4d0adb5-f41b-480a-a372-c19f8f52309b button.colab-df-convert');\n",
              "        buttonEl.style.display =\n",
              "          google.colab.kernel.accessAllowed ? 'block' : 'none';\n",
              "\n",
              "        async function convertToInteractive(key) {\n",
              "          const element = document.querySelector('#df-a4d0adb5-f41b-480a-a372-c19f8f52309b');\n",
              "          const dataTable =\n",
              "            await google.colab.kernel.invokeFunction('convertToInteractive',\n",
              "                                                     [key], {});\n",
              "          if (!dataTable) return;\n",
              "\n",
              "          const docLinkHtml = 'Like what you see? Visit the ' +\n",
              "            '<a target=\"_blank\" href=https://colab.research.google.com/notebooks/data_table.ipynb>data table notebook</a>'\n",
              "            + ' to learn more about interactive tables.';\n",
              "          element.innerHTML = '';\n",
              "          dataTable['output_type'] = 'display_data';\n",
              "          await google.colab.output.renderOutput(dataTable, element);\n",
              "          const docLink = document.createElement('div');\n",
              "          docLink.innerHTML = docLinkHtml;\n",
              "          element.appendChild(docLink);\n",
              "        }\n",
              "      </script>\n",
              "    </div>\n",
              "  </div>\n",
              "  "
            ]
          },
          "metadata": {},
          "execution_count": 3
        }
      ]
    },
    {
      "cell_type": "code",
      "source": [
        "age = dataset1[\"Age at Initial Pathologic Diagnosis\"].to_list()\n",
        "print(\"mean\", st.mean(age),\"\\n\")\n",
        "print(\"mode\", st.mode(age),\"\\n\")\n",
        "print(\"median\", st.median(age),\"\\n\")"
      ],
      "metadata": {
        "colab": {
          "base_uri": "https://localhost:8080/"
        },
        "id": "mHdbtJfcfiWX",
        "outputId": "c40e0403-33b0-4add-a6aa-23017ddfc9f5"
      },
      "execution_count": null,
      "outputs": [
        {
          "output_type": "stream",
          "name": "stdout",
          "text": [
            "mean 58.68571428571428 \n",
            "\n",
            "mode 66 \n",
            "\n",
            "median 58 \n",
            "\n"
          ]
        }
      ]
    },
    {
      "cell_type": "code",
      "source": [
        "tumor = dataset1[\"Tumor\"].to_list()\n",
        "st.mode(tumor)"
      ],
      "metadata": {
        "colab": {
          "base_uri": "https://localhost:8080/",
          "height": 35
        },
        "id": "EIaobK8df0pG",
        "outputId": "2488c130-4fef-4b71-c757-6e00b243af9b"
      },
      "execution_count": null,
      "outputs": [
        {
          "output_type": "execute_result",
          "data": {
            "text/plain": [
              "'T2'"
            ],
            "application/vnd.google.colaboratory.intrinsic+json": {
              "type": "string"
            }
          },
          "metadata": {},
          "execution_count": 5
        }
      ]
    },
    {
      "cell_type": "code",
      "source": [
        "node = dataset1[\"Node\"].to_list()\n",
        "st.mode(node)"
      ],
      "metadata": {
        "colab": {
          "base_uri": "https://localhost:8080/",
          "height": 35
        },
        "id": "Nyl8KJ2Uf2SF",
        "outputId": "88ee3c3b-86fa-4c86-d7d9-694dc19e6332"
      },
      "execution_count": null,
      "outputs": [
        {
          "output_type": "execute_result",
          "data": {
            "text/plain": [
              "'N0'"
            ],
            "application/vnd.google.colaboratory.intrinsic+json": {
              "type": "string"
            }
          },
          "metadata": {},
          "execution_count": 6
        }
      ]
    },
    {
      "cell_type": "code",
      "source": [
        "stage = dataset1[\"AJCC Stage\"].to_list()\n",
        "st.mode(stage)"
      ],
      "metadata": {
        "colab": {
          "base_uri": "https://localhost:8080/",
          "height": 35
        },
        "id": "jIxmntzZf0qs",
        "outputId": "e82e6904-9b60-483f-f2d8-20f2ead66d24"
      },
      "execution_count": null,
      "outputs": [
        {
          "output_type": "execute_result",
          "data": {
            "text/plain": [
              "'Stage IIA'"
            ],
            "application/vnd.google.colaboratory.intrinsic+json": {
              "type": "string"
            }
          },
          "metadata": {},
          "execution_count": 7
        }
      ]
    },
    {
      "cell_type": "markdown",
      "source": [
        "**`Read Dataset2 and calculate require statistics`**"
      ],
      "metadata": {
        "id": "-BtNW2ufg7Tm"
      }
    },
    {
      "cell_type": "code",
      "source": [
        "dataset2 = pd.read_csv('train2.csv')\n",
        "dataset2.dropna()\n",
        "dataset2.head(2)"
      ],
      "metadata": {
        "colab": {
          "base_uri": "https://localhost:8080/",
          "height": 112
        },
        "id": "JbPIYDCmhCkz",
        "outputId": "10a027c1-3235-4817-80c5-b5ea149f5aa3"
      },
      "execution_count": null,
      "outputs": [
        {
          "output_type": "execute_result",
          "data": {
            "text/plain": [
              "           Employee Name                                          Job Title  \\\n",
              "0  Theodore H Eliopoulos  CHIEF INVESTMENT OFFICER, PUBLIC EMPLOYEES' RE...   \n",
              "1       Vernon L Steiner  PRESIDENT AND CEO, STATE COMPENSATION INSURANC...   \n",
              "\n",
              "    Base Pay  Overtime Pay  Other Pay   Benefits  Total Pay  \\\n",
              "0  486927.08           0.0  325137.79  135041.84  812064.87   \n",
              "1  461785.80           0.0  210241.49  129174.33  672027.29   \n",
              "\n",
              "   Total Pay & Benefits  Year  Notes               Agency  Status  \n",
              "0             947106.71  2015    NaN  State of California     NaN  \n",
              "1             801201.62  2015    NaN  State of California     NaN  "
            ],
            "text/html": [
              "\n",
              "  <div id=\"df-278f782d-f94f-4352-baa9-70cf54df0209\">\n",
              "    <div class=\"colab-df-container\">\n",
              "      <div>\n",
              "<style scoped>\n",
              "    .dataframe tbody tr th:only-of-type {\n",
              "        vertical-align: middle;\n",
              "    }\n",
              "\n",
              "    .dataframe tbody tr th {\n",
              "        vertical-align: top;\n",
              "    }\n",
              "\n",
              "    .dataframe thead th {\n",
              "        text-align: right;\n",
              "    }\n",
              "</style>\n",
              "<table border=\"1\" class=\"dataframe\">\n",
              "  <thead>\n",
              "    <tr style=\"text-align: right;\">\n",
              "      <th></th>\n",
              "      <th>Employee Name</th>\n",
              "      <th>Job Title</th>\n",
              "      <th>Base Pay</th>\n",
              "      <th>Overtime Pay</th>\n",
              "      <th>Other Pay</th>\n",
              "      <th>Benefits</th>\n",
              "      <th>Total Pay</th>\n",
              "      <th>Total Pay &amp; Benefits</th>\n",
              "      <th>Year</th>\n",
              "      <th>Notes</th>\n",
              "      <th>Agency</th>\n",
              "      <th>Status</th>\n",
              "    </tr>\n",
              "  </thead>\n",
              "  <tbody>\n",
              "    <tr>\n",
              "      <th>0</th>\n",
              "      <td>Theodore H Eliopoulos</td>\n",
              "      <td>CHIEF INVESTMENT OFFICER, PUBLIC EMPLOYEES' RE...</td>\n",
              "      <td>486927.08</td>\n",
              "      <td>0.0</td>\n",
              "      <td>325137.79</td>\n",
              "      <td>135041.84</td>\n",
              "      <td>812064.87</td>\n",
              "      <td>947106.71</td>\n",
              "      <td>2015</td>\n",
              "      <td>NaN</td>\n",
              "      <td>State of California</td>\n",
              "      <td>NaN</td>\n",
              "    </tr>\n",
              "    <tr>\n",
              "      <th>1</th>\n",
              "      <td>Vernon L Steiner</td>\n",
              "      <td>PRESIDENT AND CEO, STATE COMPENSATION INSURANC...</td>\n",
              "      <td>461785.80</td>\n",
              "      <td>0.0</td>\n",
              "      <td>210241.49</td>\n",
              "      <td>129174.33</td>\n",
              "      <td>672027.29</td>\n",
              "      <td>801201.62</td>\n",
              "      <td>2015</td>\n",
              "      <td>NaN</td>\n",
              "      <td>State of California</td>\n",
              "      <td>NaN</td>\n",
              "    </tr>\n",
              "  </tbody>\n",
              "</table>\n",
              "</div>\n",
              "      <button class=\"colab-df-convert\" onclick=\"convertToInteractive('df-278f782d-f94f-4352-baa9-70cf54df0209')\"\n",
              "              title=\"Convert this dataframe to an interactive table.\"\n",
              "              style=\"display:none;\">\n",
              "        \n",
              "  <svg xmlns=\"http://www.w3.org/2000/svg\" height=\"24px\"viewBox=\"0 0 24 24\"\n",
              "       width=\"24px\">\n",
              "    <path d=\"M0 0h24v24H0V0z\" fill=\"none\"/>\n",
              "    <path d=\"M18.56 5.44l.94 2.06.94-2.06 2.06-.94-2.06-.94-.94-2.06-.94 2.06-2.06.94zm-11 1L8.5 8.5l.94-2.06 2.06-.94-2.06-.94L8.5 2.5l-.94 2.06-2.06.94zm10 10l.94 2.06.94-2.06 2.06-.94-2.06-.94-.94-2.06-.94 2.06-2.06.94z\"/><path d=\"M17.41 7.96l-1.37-1.37c-.4-.4-.92-.59-1.43-.59-.52 0-1.04.2-1.43.59L10.3 9.45l-7.72 7.72c-.78.78-.78 2.05 0 2.83L4 21.41c.39.39.9.59 1.41.59.51 0 1.02-.2 1.41-.59l7.78-7.78 2.81-2.81c.8-.78.8-2.07 0-2.86zM5.41 20L4 18.59l7.72-7.72 1.47 1.35L5.41 20z\"/>\n",
              "  </svg>\n",
              "      </button>\n",
              "      \n",
              "  <style>\n",
              "    .colab-df-container {\n",
              "      display:flex;\n",
              "      flex-wrap:wrap;\n",
              "      gap: 12px;\n",
              "    }\n",
              "\n",
              "    .colab-df-convert {\n",
              "      background-color: #E8F0FE;\n",
              "      border: none;\n",
              "      border-radius: 50%;\n",
              "      cursor: pointer;\n",
              "      display: none;\n",
              "      fill: #1967D2;\n",
              "      height: 32px;\n",
              "      padding: 0 0 0 0;\n",
              "      width: 32px;\n",
              "    }\n",
              "\n",
              "    .colab-df-convert:hover {\n",
              "      background-color: #E2EBFA;\n",
              "      box-shadow: 0px 1px 2px rgba(60, 64, 67, 0.3), 0px 1px 3px 1px rgba(60, 64, 67, 0.15);\n",
              "      fill: #174EA6;\n",
              "    }\n",
              "\n",
              "    [theme=dark] .colab-df-convert {\n",
              "      background-color: #3B4455;\n",
              "      fill: #D2E3FC;\n",
              "    }\n",
              "\n",
              "    [theme=dark] .colab-df-convert:hover {\n",
              "      background-color: #434B5C;\n",
              "      box-shadow: 0px 1px 3px 1px rgba(0, 0, 0, 0.15);\n",
              "      filter: drop-shadow(0px 1px 2px rgba(0, 0, 0, 0.3));\n",
              "      fill: #FFFFFF;\n",
              "    }\n",
              "  </style>\n",
              "\n",
              "      <script>\n",
              "        const buttonEl =\n",
              "          document.querySelector('#df-278f782d-f94f-4352-baa9-70cf54df0209 button.colab-df-convert');\n",
              "        buttonEl.style.display =\n",
              "          google.colab.kernel.accessAllowed ? 'block' : 'none';\n",
              "\n",
              "        async function convertToInteractive(key) {\n",
              "          const element = document.querySelector('#df-278f782d-f94f-4352-baa9-70cf54df0209');\n",
              "          const dataTable =\n",
              "            await google.colab.kernel.invokeFunction('convertToInteractive',\n",
              "                                                     [key], {});\n",
              "          if (!dataTable) return;\n",
              "\n",
              "          const docLinkHtml = 'Like what you see? Visit the ' +\n",
              "            '<a target=\"_blank\" href=https://colab.research.google.com/notebooks/data_table.ipynb>data table notebook</a>'\n",
              "            + ' to learn more about interactive tables.';\n",
              "          element.innerHTML = '';\n",
              "          dataTable['output_type'] = 'display_data';\n",
              "          await google.colab.output.renderOutput(dataTable, element);\n",
              "          const docLink = document.createElement('div');\n",
              "          docLink.innerHTML = docLinkHtml;\n",
              "          element.appendChild(docLink);\n",
              "        }\n",
              "      </script>\n",
              "    </div>\n",
              "  </div>\n",
              "  "
            ]
          },
          "metadata": {},
          "execution_count": 8
        }
      ]
    },
    {
      "cell_type": "code",
      "source": [
        "job = dataset2[\"Job Title\"].to_list()\n",
        "st.mode(job)"
      ],
      "metadata": {
        "colab": {
          "base_uri": "https://localhost:8080/",
          "height": 35
        },
        "id": "Xyf6_sd-emx2",
        "outputId": "1501ba6a-618d-4c8d-fa88-eaa527cf5672"
      },
      "execution_count": null,
      "outputs": [
        {
          "output_type": "execute_result",
          "data": {
            "text/plain": [
              "'CORRECTIONAL OFFICER'"
            ],
            "application/vnd.google.colaboratory.intrinsic+json": {
              "type": "string"
            }
          },
          "metadata": {},
          "execution_count": 9
        }
      ]
    },
    {
      "cell_type": "code",
      "source": [
        "base = dataset2[\"Base Pay\"].to_list()\n",
        "print(\"mean\", st.mean(base),\"\\n\")\n",
        "print(\"mode\", st.mode(base),\"\\n\")\n",
        "print(\"median\", st.median(base),\"\\n\")"
      ],
      "metadata": {
        "colab": {
          "base_uri": "https://localhost:8080/"
        },
        "id": "5Jqe1l3pwFWJ",
        "outputId": "1841f5d9-0af1-4f86-8b36-ab48e430cf2d"
      },
      "execution_count": null,
      "outputs": [
        {
          "output_type": "stream",
          "name": "stdout",
          "text": [
            "mean 58405.72253661587 \n",
            "\n",
            "mode 0.0 \n",
            "\n",
            "median 55595.42 \n",
            "\n"
          ]
        }
      ]
    },
    {
      "cell_type": "code",
      "source": [
        "ovp = dataset2[\"Overtime Pay\"].to_list()\n",
        "print(\"mean\", st.mean(ovp),\"\\n\")\n",
        "print(\"mode\", st.mode(ovp),\"\\n\")\n",
        "print(\"median\", st.median(ovp),\"\\n\")\n",
        "\n",
        "sns.boxplot(x=ovp)"
      ],
      "metadata": {
        "colab": {
          "base_uri": "https://localhost:8080/",
          "height": 552
        },
        "id": "hp8b7ggM1sYy",
        "outputId": "1f37fcf3-84b1-40df-8730-2a1064937486"
      },
      "execution_count": null,
      "outputs": [
        {
          "output_type": "stream",
          "name": "stdout",
          "text": [
            "mean 4457.515313128114 \n",
            "\n",
            "mode 0.0 \n",
            "\n",
            "median 0.0 \n",
            "\n"
          ]
        },
        {
          "output_type": "execute_result",
          "data": {
            "text/plain": [
              "<Axes: >"
            ]
          },
          "metadata": {},
          "execution_count": 11
        },
        {
          "output_type": "display_data",
          "data": {
            "text/plain": [
              "<Figure size 640x480 with 1 Axes>"
            ],
            "image/png": "[encoded data removed]"
          },
          "metadata": {}
        }
      ]
    },
    {
      "cell_type": "code",
      "source": [],
      "metadata": {
        "id": "4SNgWtQ16qcS"
      },
      "execution_count": null,
      "outputs": []
    },
    {
      "cell_type": "code",
      "source": [
        "othp = dataset2[\"Other Pay\"].to_list()\n",
        "print(\"mean\", st.mean(othp),\"\\n\")\n",
        "print(\"mode\", st.mode(othp),\"\\n\")\n",
        "print(\"median\", st.median(othp),\"\\n\")"
      ],
      "metadata": {
        "colab": {
          "base_uri": "https://localhost:8080/"
        },
        "id": "R9g84JTG5jUz",
        "outputId": "33f69d10-7d7f-459c-e1d9-572dd9593ae5"
      },
      "execution_count": null,
      "outputs": [
        {
          "output_type": "stream",
          "name": "stdout",
          "text": [
            "mean 2907.84280306814 \n",
            "\n",
            "mode 0.0 \n",
            "\n",
            "median 180.0 \n",
            "\n"
          ]
        }
      ]
    },
    {
      "cell_type": "code",
      "source": [
        "ben = dataset2[\"Benefits\"].to_list()\n",
        "print(\"mean\", st.mean(ben),\"\\n\")\n",
        "print(\"mode\", st.mode(ben),\"\\n\")\n",
        "print(\"median\", st.median(ben),\"\\n\")\n",
        "\n",
        "sns.boxplot(x=ben)"
      ],
      "metadata": {
        "colab": {
          "base_uri": "https://localhost:8080/",
          "height": 552
        },
        "id": "HUa9GZVC50EJ",
        "outputId": "71301c7e-5dd9-4b7d-ac60-d4b891d11a16"
      },
      "execution_count": null,
      "outputs": [
        {
          "output_type": "stream",
          "name": "stdout",
          "text": [
            "mean 26103.338832068475 \n",
            "\n",
            "mode 0.0 \n",
            "\n",
            "median 25488.16 \n",
            "\n"
          ]
        },
        {
          "output_type": "execute_result",
          "data": {
            "text/plain": [
              "<Axes: >"
            ]
          },
          "metadata": {},
          "execution_count": 13
        },
        {
          "output_type": "display_data",
          "data": {
            "text/plain": [
              "<Figure size 640x480 with 1 Axes>"
            ],
            "image/png": "[encoded data removed]"
          },
          "metadata": {}
        }
      ]
    },
    {
      "cell_type": "code",
      "source": [
        "totp = dataset2[\"Total Pay\"].to_list()\n",
        "print(\"mean\", st.mean(totp),\"\\n\")\n",
        "print(\"mode\", st.mode(totp),\"\\n\")\n",
        "print(\"median\", st.median(totp),\"\\n\")"
      ],
      "metadata": {
        "colab": {
          "base_uri": "https://localhost:8080/"
        },
        "id": "KFPLzRGg57KJ",
        "outputId": "3d5e63d4-1d40-4265-cb9a-40657c65e93b"
      },
      "execution_count": null,
      "outputs": [
        {
          "output_type": "stream",
          "name": "stdout",
          "text": [
            "mean 65771.08065281212 \n",
            "\n",
            "mode 4684.8 \n",
            "\n",
            "median 61661.44 \n",
            "\n"
          ]
        }
      ]
    },
    {
      "cell_type": "code",
      "source": [
        "sns.boxplot(data=dataset1, x=\"Age at Initial Pathologic Diagnosis\", y=\"Tumor\")"
      ],
      "metadata": {
        "colab": {
          "base_uri": "https://localhost:8080/",
          "height": 466
        },
        "id": "imSehqvah9Kl",
        "outputId": "a55f5c18-652d-499e-f00d-3ee6c847f284"
      },
      "execution_count": null,
      "outputs": [
        {
          "output_type": "execute_result",
          "data": {
            "text/plain": [
              "<Axes: xlabel='Age at Initial Pathologic Diagnosis', ylabel='Tumor'>"
            ]
          },
          "metadata": {},
          "execution_count": 15
        },
        {
          "output_type": "display_data",
          "data": {
            "text/plain": [
              "<Figure size 640x480 with 1 Axes>"
            ],
            "image/png": "[encoded data removed]"
          },
          "metadata": {}
        }
      ]
    },
    {
      "cell_type": "code",
      "source": [
        "sns.boxplot(data=dataset1, x=\"Age at Initial Pathologic Diagnosis\", y=\"AJCC Stage\")"
      ],
      "metadata": {
        "colab": {
          "base_uri": "https://localhost:8080/",
          "height": 466
        },
        "id": "sJ_cpeACiqFa",
        "outputId": "75d72205-6b71-44b0-da97-e40b7e7a136d"
      },
      "execution_count": null,
      "outputs": [
        {
          "output_type": "execute_result",
          "data": {
            "text/plain": [
              "<Axes: xlabel='Age at Initial Pathologic Diagnosis', ylabel='AJCC Stage'>"
            ]
          },
          "metadata": {},
          "execution_count": 16
        },
        {
          "output_type": "display_data",
          "data": {
            "text/plain": [
              "<Figure size 640x480 with 1 Axes>"
            ],
            "image/png": "[encoded data removed]"
          },
          "metadata": {}
        }
      ]
    },
    {
      "cell_type": "code",
      "source": [
        "sns.boxplot(data=dataset2, x=\"Base Pay\", y=\"Job Title\", order=[\"PHYSICIAN AND SURGEON (SAFETY)\", \"DENTIST, CORRECTIONAL FACILITY\"])"
      ],
      "metadata": {
        "colab": {
          "base_uri": "https://localhost:8080/",
          "height": 466
        },
        "id": "4XfE_puRv1N8",
        "outputId": "77dd21ac-d94e-4b0c-8829-b92b0d3ae8b8"
      },
      "execution_count": null,
      "outputs": [
        {
          "output_type": "execute_result",
          "data": {
            "text/plain": [
              "<Axes: xlabel='Base Pay', ylabel='Job Title'>"
            ]
          },
          "metadata": {},
          "execution_count": 20
        },
        {
          "output_type": "display_data",
          "data": {
            "text/plain": [
              "<Figure size 640x480 with 1 Axes>"
            ],
            "image/png": "[encoded data removed]"
          },
          "metadata": {}
        }
      ]
    },
    {
      "cell_type": "code",
      "source": [
        "sns.boxplot(data=dataset2, x=\"Total Pay\", y=\"Job Title\", order=[\"RECEIVER'S MEDICAL EXECUTIVE (SAFETY)\", \"SENIOR PSYCHIATRIST (SPECIALIST)\"])"
      ],
      "metadata": {
        "colab": {
          "base_uri": "https://localhost:8080/",
          "height": 466
        },
        "id": "VImhwu9SzYzB",
        "outputId": "2b83c23b-3ec4-4b56-9c44-45b756d69ef1"
      },
      "execution_count": null,
      "outputs": [
        {
          "output_type": "execute_result",
          "data": {
            "text/plain": [
              "<Axes: xlabel='Total Pay', ylabel='Job Title'>"
            ]
          },
          "metadata": {},
          "execution_count": 26
        },
        {
          "output_type": "display_data",
          "data": {
            "text/plain": [
              "<Figure size 640x480 with 1 Axes>"
            ],
            "image/png": "[encoded data removed]"
          },
          "metadata": {}
        }
      ]
    },
    {
      "cell_type": "code",
      "source": [
        "sns.boxplot(data=dataset2, x=\"Benefits\", y=\"Job Title\", order=[\"CORRECTIONAL LIEUTENANT\", \"STAFF PSYCHIATRIST (SAFETY)\"])"
      ],
      "metadata": {
        "colab": {
          "base_uri": "https://localhost:8080/",
          "height": 466
        },
        "id": "KeIjX0evzcJ3",
        "outputId": "e87fad18-ab71-42b3-d918-e825164865a7"
      },
      "execution_count": null,
      "outputs": [
        {
          "output_type": "execute_result",
          "data": {
            "text/plain": [
              "<Axes: xlabel='Benefits', ylabel='Job Title'>"
            ]
          },
          "metadata": {},
          "execution_count": 23
        },
        {
          "output_type": "display_data",
          "data": {
            "text/plain": [
              "<Figure size 640x480 with 1 Axes>"
            ],
            "image/png": "[encoded data removed]"
          },
          "metadata": {}
        }
      ]
    }
  ]
}